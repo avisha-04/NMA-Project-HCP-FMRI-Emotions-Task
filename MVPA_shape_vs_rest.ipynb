{
  "nbformat": 4,
  "nbformat_minor": 0,
  "metadata": {
    "colab": {
      "provenance": [],
      "collapsed_sections": [],
      "toc_visible": true
    },
    "kernelspec": {
      "name": "python3",
      "display_name": "Python 3"
    },
    "accelerator": "GPU"
  },
  "cells": [
    {
      "cell_type": "markdown",
      "source": [
        "NOTE: This file contains Multi-Voxel Pattern Analysis to classify shape vs resting state fMRI data during HCP emotion task."
      ],
      "metadata": {
        "id": "w86JyJAjUcpI"
      }
    },
    {
      "cell_type": "markdown",
      "metadata": {
        "id": "oIvhc_R1D6k1"
      },
      "source": [
        "# Human Connectome Project (HCP) Dataset loader\n",
        "\n",
        "The HCP dataset comprises resting-state and task-based fMRI from a large sample of human subjects. The NMA-curated dataset includes time series data that has been preprocessed and spatially-downsampled by aggregating within 360 regions of interest."
      ]
    },
    {
      "cell_type": "code",
      "metadata": {
        "id": "fXIw61Dk-M5E"
      },
      "source": [
        "import os\n",
        "import numpy as np\n",
        "import matplotlib.pyplot as plt\n",
        "from sklearn.decomposition import PCA\n",
        "from sklearn.manifold import TSNE\n",
        "from sklearn.linear_model import LogisticRegression\n",
        "from sklearn.model_selection import cross_val_score\n",
        "from sklearn.preprocessing import StandardScaler\n",
        "from sklearn import svm\n",
        "from sklearn.svm import SVC\n",
        "from sklearn.pipeline import make_pipeline \n",
        "from sklearn.model_selection import train_test_split\n",
        "from sklearn import feature_selection\n",
        "from sklearn.feature_selection import SelectPercentile, f_classif\n",
        "from sklearn.pipeline import Pipeline \n",
        "from sklearn.svm import SVC\n",
        "from sklearn.svm import LinearSVC\n"
      ],
      "execution_count": null,
      "outputs": []
    },
    {
      "cell_type": "code",
      "metadata": {
        "id": "3Qrlrgs_rlOn",
        "cellView": "form"
      },
      "source": [
        "#@title Helper functions\n",
        "\n",
        "\n",
        "def visualize_components(component1, component2, labels, show=True):\n",
        "  \"\"\"\n",
        "  Plots a 2D representation of the data for visualization with categories\n",
        "  labelled as different colors.\n",
        "\n",
        "  Args:\n",
        "    component1 (numpy array of floats) : Vector of component 1 scores\n",
        "    component2 (numpy array of floats) : Vector of component 2 scores\n",
        "    labels (numpy array of floats)     : Vector corresponding to categories of\n",
        "                                         samples\n",
        "\n",
        "  Returns:\n",
        "    Nothing.\n",
        "\n",
        "  \"\"\"\n",
        "  n = np.arange(0,len(labels))\n",
        "  \n",
        "  plt.figure()\n",
        "  cmap = plt.cm.get_cmap('tab10')\n",
        "  plt.scatter(x=component1, y=component2, c=labels, cmap=cmap)\n",
        "  for i, txt in enumerate(n):\n",
        "    plt.annotate(txt, (component1[i], component2[i]))\n",
        "  plt.xlabel('Component 1')\n",
        "  plt.ylabel('Component 2')\n",
        "  plt.colorbar(ticks=range(3))\n",
        "  plt.clim(-0.5, 9.5)\n",
        "  if show:\n",
        "    plt.show()"
      ],
      "execution_count": null,
      "outputs": []
    },
    {
      "cell_type": "code",
      "metadata": {
        "id": "4eJOYQqgSMKV",
        "cellView": "form"
      },
      "source": [
        "#@title Figure settings\n",
        "%matplotlib inline\n",
        "%config InlineBackend.figure_format = 'retina'\n",
        "plt.style.use(\"https://raw.githubusercontent.com/NeuromatchAcademy/course-content/master/nma.mplstyle\")"
      ],
      "execution_count": null,
      "outputs": []
    },
    {
      "cell_type": "markdown",
      "metadata": {
        "id": "CSdEhS5jKzkb"
      },
      "source": [
        "# Basic parameters"
      ]
    },
    {
      "cell_type": "code",
      "metadata": {
        "id": "oL4crLoCzkzk"
      },
      "source": [
        "# The download cells will store the data in nested directories starting here:\n",
        "HCP_DIR = \"./hcp\"\n",
        "if not os.path.isdir(HCP_DIR):\n",
        "  os.mkdir(HCP_DIR)\n",
        "\n",
        "# The data shared for NMA projects is a subset of the full HCP dataset\n",
        "N_SUBJECTS = 339\n",
        "\n",
        "# The data have already been aggregated into ROIs from the Glasesr parcellation\n",
        "N_PARCELS = 360\n",
        "\n",
        "# The acquisition parameters for all tasks were identical\n",
        "TR = 0.72  # Time resolution, in sec\n",
        "\n",
        "# The parcels are matched across hemispheres with the same order\n",
        "HEMIS = [\"Right\", \"Left\"]\n",
        "\n",
        "# Each experiment was repeated multiple times in each subject\n",
        "N_RUNS_REST = 4\n",
        "N_RUNS_TASK = 2\n",
        "\n",
        "# Time series data are organized by experiment, with each experiment\n",
        "# having an LR and RL (phase-encode direction) acquistion\n",
        "BOLD_NAMES = [\n",
        "  \"rfMRI_REST1_LR\", \"rfMRI_REST1_RL\",\n",
        "  \"rfMRI_REST2_LR\", \"rfMRI_REST2_RL\",\n",
        "  \"tfMRI_MOTOR_RL\", \"tfMRI_MOTOR_LR\",\n",
        "  \"tfMRI_WM_RL\", \"tfMRI_WM_LR\",\n",
        "  \"tfMRI_EMOTION_RL\", \"tfMRI_EMOTION_LR\",\n",
        "  \"tfMRI_GAMBLING_RL\", \"tfMRI_GAMBLING_LR\",\n",
        "  \"tfMRI_LANGUAGE_RL\", \"tfMRI_LANGUAGE_LR\",\n",
        "  \"tfMRI_RELATIONAL_RL\", \"tfMRI_RELATIONAL_LR\",\n",
        "  \"tfMRI_SOCIAL_RL\", \"tfMRI_SOCIAL_LR\"\n",
        "]\n",
        "\n",
        "# You may want to limit the subjects used during code development.\n",
        "# This will use all subjects:\n",
        "subjects = range(N_SUBJECTS)"
      ],
      "execution_count": null,
      "outputs": []
    },
    {
      "cell_type": "markdown",
      "metadata": {
        "id": "ErP_ocaxK9FU"
      },
      "source": [
        "# Downloading data\n",
        "\n",
        "The rest and task data are shared in different files, but they will unpack into the same directory structure.\n",
        "\n",
        "Each file is fairly large and will take some time to download. If you are focusing only on rest or task analyses, you may not want to download only that dataset.\n",
        "\n",
        "We also separately provide some potentially useful behavioral covariate information."
      ]
    },
    {
      "cell_type": "code",
      "metadata": {
        "id": "5ubuyGN7siwI"
      },
      "source": [
        "fname = \"hcp_task.tgz\"\n",
        "if not os.path.exists(fname):\n",
        "  !wget -qO $fname https://osf.io/s4h8j/download/\n",
        "  !tar -xzf $fname -C $HCP_DIR --strip-components=1"
      ],
      "execution_count": null,
      "outputs": []
    },
    {
      "cell_type": "markdown",
      "metadata": {
        "id": "HaF8v-UBTcxq"
      },
      "source": [
        "## Loading region information\n",
        "\n",
        "Downloading either dataset will create the `regions.npy` file, which contains the region name and network assignment for each parcel.\n",
        "\n",
        "Detailed information about the name used for each region is provided [in the Supplement](https://static-content.springer.com/esm/art%3A10.1038%2Fnature18933/MediaObjects/41586_2016_BFnature18933_MOESM330_ESM.pdf) to [Glasser et al. 2016](https://www.nature.com/articles/nature18933).\n",
        "\n",
        "Information about the network parcellation is provided in [Ji et al, 2019](https://www.ncbi.nlm.nih.gov/pmc/articles/PMC6289683/)."
      ]
    },
    {
      "cell_type": "code",
      "metadata": {
        "id": "28q_GDlXOyMi"
      },
      "source": [
        "regions = np.load(f\"{HCP_DIR}/regions.npy\").T\n",
        "region_info = dict(\n",
        "    name=regions[0].tolist(),\n",
        "    network=regions[1],\n",
        "    myelin=regions[2].astype(np.float),\n",
        ")"
      ],
      "execution_count": null,
      "outputs": []
    },
    {
      "cell_type": "markdown",
      "metadata": {
        "id": "NYDxvWrbIxxk"
      },
      "source": [
        "# Helper functions\n"
      ]
    },
    {
      "cell_type": "markdown",
      "metadata": {
        "id": "ZDFPnQ07MmEd"
      },
      "source": [
        "## Data loading"
      ]
    },
    {
      "cell_type": "code",
      "metadata": {
        "id": "pnq7H5h_IxLi"
      },
      "source": [
        "def get_image_ids(name):\n",
        "  \"\"\"Get the 1-based image indices for runs in a given experiment.\n",
        "\n",
        "    Args:\n",
        "      name (str) : Name of experiment (\"rest\" or name of task) to load\n",
        "    Returns:\n",
        "      run_ids (list of int) : Numeric ID for experiment image files\n",
        "\n",
        "  \"\"\"\n",
        "  run_ids = [\n",
        "    i for i, code in enumerate(BOLD_NAMES, 1) if name.upper() in code\n",
        "  ]\n",
        "  if not run_ids:\n",
        "    raise ValueError(f\"Found no data for '{name}''\")\n",
        "  return run_ids\n",
        "\n",
        "def load_timeseries(subject, name, runs=None, concat=True, remove_mean=True):\n",
        "  \"\"\"Load timeseries data for a single subject.\n",
        "  \n",
        "  Args:\n",
        "    subject (int): 0-based subject ID to load\n",
        "    name (str) : Name of experiment (\"rest\" or name of task) to load\n",
        "    run (None or int or list of ints): 0-based run(s) of the task to load,\n",
        "      or None to load all runs.\n",
        "    concat (bool) : If True, concatenate multiple runs in time\n",
        "    remove_mean (bool) : If True, subtract the parcel-wise mean\n",
        "\n",
        "  Returns\n",
        "    ts (n_parcel x n_tp array): Array of BOLD data values\n",
        "\n",
        "  \"\"\"\n",
        "  # Get the list relative 0-based index of runs to use\n",
        "  if runs is None:\n",
        "    runs = range(N_RUNS_REST) if name == \"rest\" else range(N_RUNS_TASK)\n",
        "  elif isinstance(runs, int):\n",
        "    runs = [runs]\n",
        "\n",
        "  # Get the first (1-based) run id for this experiment \n",
        "  offset = get_image_ids(name)[0]\n",
        "\n",
        "  # Load each run's data\n",
        "  bold_data = [\n",
        "      load_single_timeseries(subject, offset + run, remove_mean) for run in runs\n",
        "  ]\n",
        "\n",
        "  # Optionally concatenate in time\n",
        "  if concat:\n",
        "    bold_data = np.concatenate(bold_data, axis=-1)\n",
        "\n",
        "  return bold_data\n",
        "\n",
        "\n",
        "def load_single_timeseries(subject, bold_run, remove_mean=True):\n",
        "  \"\"\"Load timeseries data for a single subject and single run.\n",
        "  \n",
        "  Args:\n",
        "    subject (int): 0-based subject ID to load\n",
        "    bold_run (int): 1-based run index, across all tasks\n",
        "    remove_mean (bool): If True, subtract the parcel-wise mean\n",
        "\n",
        "  Returns\n",
        "    ts (n_parcel x n_timepoint array): Array of BOLD data values\n",
        "\n",
        "  \"\"\"\n",
        "  bold_path = f\"{HCP_DIR}/subjects/{subject}/timeseries\"\n",
        "  bold_file = f\"bold{bold_run}_Atlas_MSMAll_Glasser360Cortical.npy\"\n",
        "  ts = np.load(f\"{bold_path}/{bold_file}\")\n",
        "  if remove_mean:\n",
        "    ts -= ts.mean(axis=1, keepdims=True)\n",
        "  return ts\n",
        "\n",
        "def load_evs(subject, name, condition):\n",
        "  \"\"\"Load EV (explanatory variable) data for one task condition.\n",
        "\n",
        "  Args:\n",
        "    subject (int): 0-based subject ID to load\n",
        "    name (str) : Name of task\n",
        "    condition (str) : Name of condition\n",
        "\n",
        "  Returns\n",
        "    evs (list of dicts): A dictionary with the onset, duration, and amplitude\n",
        "      of the condition for each run.\n",
        "\n",
        "  \"\"\"\n",
        "  evs = []\n",
        "  for id in get_image_ids(name):\n",
        "    task_key = BOLD_NAMES[id - 1]\n",
        "    ev_file = f\"{HCP_DIR}/subjects/{subject}/EVs/{task_key}/{condition}.txt\"\n",
        "    ev = dict(zip([\"onset\", \"duration\", \"amplitude\"], np.genfromtxt(ev_file).T))\n",
        "    evs.append(ev)\n",
        "  return evs"
      ],
      "execution_count": null,
      "outputs": []
    },
    {
      "cell_type": "markdown",
      "metadata": {
        "id": "qQzCA99sMryW"
      },
      "source": [
        "## Task-based analysis"
      ]
    },
    {
      "cell_type": "code",
      "metadata": {
        "id": "HgnEuN0gMqxP"
      },
      "source": [
        "def condition_frames(run_evs, skip=0):\n",
        "  \"\"\"Identify timepoints corresponding to a given condition in each run.\n",
        "\n",
        "  Args:\n",
        "    run_evs (list of dicts) : Onset and duration of the event, per run\n",
        "    skip (int) : Ignore this many frames at the start of each trial, to account\n",
        "      for hemodynamic lag\n",
        "\n",
        "  Returns:\n",
        "    frames_list (list of 1D arrays): Flat arrays of frame indices, per run\n",
        "\n",
        "  \"\"\"\n",
        "  frames_list = []\n",
        "  for ev in run_evs:\n",
        "\n",
        "    # Determine when trial starts, rounded down\n",
        "    start = np.floor(ev[\"onset\"] / TR).astype(int)\n",
        "\n",
        "    # Use trial duration to determine how many frames to include for trial\n",
        "    duration = np.ceil(ev[\"duration\"] / TR).astype(int)\n",
        "\n",
        "    # Take the range of frames that correspond to this specific trial\n",
        "    frames = [s + np.arange(skip, d) for s, d in zip(start, duration)]\n",
        "    \n",
        "    # remove  frames>176 from the frames\n",
        "    \n",
        "    frames_list.append(np.concatenate(frames))\n",
        "  run_1 = frames_list[0] \n",
        "  run_2 = frames_list[1] \n",
        "  run_1 = run_1[run_1<176]\n",
        "  run_2 = run_2[run_2<176]\n",
        "  list = [run_1,run_2]\n",
        "  return list\n",
        "\n",
        "\n",
        "def selective_average(timeseries_data, ev, skip=0):\n",
        "  \"\"\"Take the temporal mean across frames for a given condition.\n",
        "\n",
        "  Args:\n",
        "    timeseries_data (array or list of arrays): n_parcel x n_tp arrays\n",
        "    ev (dict or list of dicts): Condition timing information\n",
        "    skip (int) : Ignore this many frames at the start of each trial, to account\n",
        "      for hemodynamic lag\n",
        "\n",
        "  Returns:\n",
        "    avg_data (1D array): Data averagted across selected image frames based\n",
        "    on condition timing\n",
        "\n",
        "  \"\"\"\n",
        "  # Ensure that we have lists of the same length\n",
        "  if not isinstance(timeseries_data, list):\n",
        "    timeseries_data = [timeseries_data]\n",
        "  if not isinstance(ev, list):\n",
        "    ev = [ev]\n",
        "  if len(timeseries_data) != len(ev):\n",
        "    raise ValueError(\"Length of `timeseries_data` and `ev` must match.\")\n",
        "\n",
        "  # Identify the indices of relevant frames\n",
        "  frames = condition_frames(ev)\n",
        "\n",
        "  # Select the frames from each image\n",
        "  selected_data = []\n",
        "  for run_data, run_frames in zip(timeseries_data, frames):\n",
        "    selected_data.append(run_data[:, run_frames])\n",
        "    run_frames = run_frames[run_frames<run_data.shape[1]]\n",
        "\n",
        "  # Take the average in each parcel\n",
        "  avg_data = np.concatenate(selected_data, axis=-1).mean(axis=-1)\n",
        "\n",
        "  return avg_data"
      ],
      "execution_count": null,
      "outputs": []
    },
    {
      "cell_type": "markdown",
      "metadata": {
        "id": "RKOzUn2iPnQL"
      },
      "source": [
        "# Task analyses\n",
        "\n",
        "Description of each task, task timing, and conditions is located [here](https://protocols.humanconnectome.org/HCP/3T/task-fMRI-protocol-details.html).\n",
        "\n",
        "These are the condition names for each task:\n",
        "\n",
        "```\n",
        "- MOTOR: cue, lf, lh, rf, rh, t\n",
        "- WM:\n",
        "    0bk_body, 0bk_faces, 0bk_nir, 0bk_placed, 0bk_tools, \n",
        "    2bk_body, 2bk_faces, 2bk_nir, 2bk_placed, 2bk_tools,\n",
        "    0bk_cor, 0bk_err,\n",
        "    2bk_cor, 2bk_err,\n",
        "    all_bk_cor, all_bk_err\n",
        "- EMOTION: feat, neutral\n",
        "- GAMBLING: loss, loss_event, win, win_event, neut_event\n",
        "- LANGUAGE:\n",
        "    cue,\n",
        "    math, story\n",
        "    present_math, present_story,\n",
        "    question_math, question_story,\n",
        "    response_math, response_story\n",
        "- RELATIONAL: error, match, relation\n",
        "- SOCIAL: mental_resp, mental, other_resp, rnd\n",
        "```"
      ]
    },
    {
      "cell_type": "markdown",
      "metadata": {
        "id": "jlFhngy2UkTq"
      },
      "source": [
        "## Load individual runs for a given task"
      ]
    },
    {
      "cell_type": "markdown",
      "metadata": {
        "id": "zglt0E9_VtO5"
      },
      "source": [
        "Load each subject's data for a specific task, separately for each run:"
      ]
    },
    {
      "cell_type": "code",
      "metadata": {
        "id": "MObaV3AT043I",
        "outputId": "df3f4e61-f5c6-4bb4-ba87-54503085d76a",
        "colab": {
          "base_uri": "https://localhost:8080/",
          "height": 51
        }
      },
      "source": [
        "timeseries_task = []\n",
        "for subject in subjects:\n",
        "  timeseries_task.append(load_timeseries(subject, \"emotion\", concat=False))\n",
        "print(type(timeseries_task[0]))\n",
        "print(np.shape(timeseries_task))\n",
        "\n"
      ],
      "execution_count": null,
      "outputs": [
        {
          "output_type": "stream",
          "text": [
            "<class 'list'>\n",
            "(339, 2, 360, 176)\n"
          ],
          "name": "stdout"
        }
      ]
    },
    {
      "cell_type": "markdown",
      "metadata": {
        "id": "ljvZektJ_Qny"
      },
      "source": [
        "## Run a simple subtraction analysis"
      ]
    },
    {
      "cell_type": "code",
      "metadata": {
        "id": "bt8x-b68NB8W",
        "outputId": "6f700f29-a727-4f88-d998-7fa8882a7bc6",
        "colab": {
          "base_uri": "https://localhost:8080/",
          "height": 255
        }
      },
      "source": [
        "help(load_evs)"
      ],
      "execution_count": null,
      "outputs": [
        {
          "output_type": "stream",
          "text": [
            "Help on function load_evs in module __main__:\n",
            "\n",
            "load_evs(subject, name, condition)\n",
            "    Load EV (explanatory variable) data for one task condition.\n",
            "    \n",
            "    Args:\n",
            "      subject (int): 0-based subject ID to load\n",
            "      name (str) : Name of task\n",
            "      condition (str) : Name of condition\n",
            "    \n",
            "    Returns\n",
            "      evs (list of dicts): A dictionary with the onset, duration, and amplitude\n",
            "        of the condition for each run.\n",
            "\n"
          ],
          "name": "stdout"
        }
      ]
    },
    {
      "cell_type": "code",
      "metadata": {
        "id": "7FZtcNLZNDBJ",
        "outputId": "27f0953b-5615-4398-e968-82d5e25749b4",
        "colab": {
          "base_uri": "https://localhost:8080/",
          "height": 272
        }
      },
      "source": [
        "help(selective_average)"
      ],
      "execution_count": null,
      "outputs": [
        {
          "output_type": "stream",
          "text": [
            "Help on function selective_average in module __main__:\n",
            "\n",
            "selective_average(timeseries_data, ev, skip=0)\n",
            "    Take the temporal mean across frames for a given condition.\n",
            "    \n",
            "    Args:\n",
            "      timeseries_data (array or list of arrays): n_parcel x n_tp arrays\n",
            "      ev (dict or list of dicts): Condition timing information\n",
            "      skip (int) : Ignore this many frames at the start of each trial, to account\n",
            "        for hemodynamic lag\n",
            "    \n",
            "    Returns:\n",
            "      avg_data (1D array): Data averagted across selected image frames based\n",
            "      on condition timing\n",
            "\n"
          ],
          "name": "stdout"
        }
      ]
    },
    {
      "cell_type": "code",
      "metadata": {
        "id": "oDnGGT7HPR2Y"
      },
      "source": [
        "task = \"emotion\"\n",
        "conditions = [\"fear\", \"neut\"]  \n",
        "\n",
        "#fear 50 neut 77\n",
        "\n",
        "fear_data = np.zeros((339,2,360,99))\n",
        "fear_label = np.zeros((339,2,360,99))\n",
        "neut_data = np.zeros((339,2,360,126))\n",
        "neut_label = np.zeros((339,2,360,126))\n",
        "#labels 0-blank 1-fear 2-shape\n",
        "label = np.zeros((339,2,360,176))\n",
        "\n",
        "for subject in subjects:\n",
        "\n",
        "  evs = [load_evs(subject, task, cond) for cond in conditions]\n",
        "  evs_fear = load_evs(subject, task, conditions[0])\n",
        "  evs_neut = load_evs(subject, task, conditions[1])\n",
        "  \n",
        "  fear_indices = condition_frames(evs_fear, skip=0)\n",
        "  neut_indices = condition_frames(evs_neut, skip=0)\n",
        "  \n",
        "  #labeling\n",
        "  for i in fear_indices[0]:\n",
        "    for j in range(360):\n",
        "      label[subject][0][j][i]=1\n",
        "  \n",
        "  for i in fear_indices[1]:\n",
        "    for j in range(360):\n",
        "      label[subject][1][j][i]=1\n",
        "\n",
        "  for i in neut_indices[0]:\n",
        "    for j in range(360):\n",
        "      label[subject][0][j][i]=2\n",
        "  \n",
        "  for i in neut_indices[1]:\n",
        "    for j in range(360):\n",
        "      label[subject][1][j][i]=2\n",
        "  \n",
        "  label[subject,0,:,162:176] = 0\n",
        "  label[subject,1,:,162:176] = 0\n",
        "  \n",
        "  #divide \n",
        "\n",
        "  temp1 = np.array(timeseries_task[subject][0][:][:])\n",
        "  fear_data[subject,0,:,:] = np.delete(temp1, [ 15,  16,  17,  18,  19,  20,  21,  22,  23,  24,  25,  26,  27,\n",
        "        28,  29,  30,  31,  32,  33,  34,  35,  36,  37,  38,  39,  73,\n",
        "        74,  75,  76,  77,  78,  79,  80,  81,  82,  83,  84,  85,  86,\n",
        "        87,  88,  89,  90,  91,  92,  93,  94,  95,  96,  97, 132, 133,\n",
        "       134, 135, 136, 137, 138, 139, 140, 141, 142, 143, 144, 145, 146,\n",
        "       147, 148, 149, 150, 151, 152, 153, 154, 155, 156, 157, 98] , 1)\n",
        "  \n",
        "  temp3 = np.array(label[subject][0][:][:])\n",
        "  fear_label[subject,0,:,:] = np.delete(temp3, [ 15,  16,  17,  18,  19,  20,  21,  22,  23,  24,  25,  26,  27,\n",
        "        28,  29,  30,  31,  32,  33,  34,  35,  36,  37,  38,  39,  73,\n",
        "        74,  75,  76,  77,  78,  79,  80,  81,  82,  83,  84,  85,  86,\n",
        "        87,  88,  89,  90,  91,  92,  93,  94,  95,  96,  97, 132, 133,\n",
        "       134, 135, 136, 137, 138, 139, 140, 141, 142, 143, 144, 145, 146,\n",
        "       147, 148, 149, 150, 151, 152, 153, 154, 155, 156, 157, 98] , 1)\n",
        "  \n",
        "  temp2 = np.array(timeseries_task[subject][0][:][:])\n",
        "  neut_data[subject,0,:,:] = np.delete(temp2, [ 44,  45,  46,  47,  48,  49,  50,  51,  52,  53,  54,  55,  56,\n",
        "        57,  58,  59,  60,  61,  62,  63,  64,  65,  66,  67,  68, 103,\n",
        "       104, 105, 106, 107, 108, 109, 110, 111, 112, 113, 114, 115, 116,\n",
        "       117, 118, 119, 120, 121, 122, 123, 124, 125, 126, 127], 1)\n",
        "  \n",
        "  temp4 = np.array(label[subject][0][:][:])\n",
        "  neut_label[subject,0,:,:] = np.delete(temp4, [ 44,  45,  46,  47,  48,  49,  50,  51,  52,  53,  54,  55,  56,\n",
        "        57,  58,  59,  60,  61,  62,  63,  64,  65,  66,  67,  68, 103,\n",
        "       104, 105, 106, 107, 108, 109, 110, 111, 112, 113, 114, 115, 116,\n",
        "       117, 118, 119, 120, 121, 122, 123, 124, 125, 126, 127], 1)\n",
        " \n",
        "#fear_data , fear_label = blank+fear (339,2,360,99)\n",
        "#neut_data , neut_label = blank+neut (339,2,360,126)\n"
      ],
      "execution_count": null,
      "outputs": []
    },
    {
      "cell_type": "code",
      "metadata": {
        "id": "on9QG9UbAsCF",
        "outputId": "054f89b9-bb03-4018-b571-1069c5cd3818",
        "colab": {
          "base_uri": "https://localhost:8080/",
          "height": 51
        }
      },
      "source": [
        "neut_frames = 126\n",
        "neut_label = np.where(neut_label==2,1,neut_label)\n",
        "X = neut_data[0,0,:,:]\n",
        "X = X.T\n",
        "x = neut_data[0,1,:,:]\n",
        "x = x.T\n",
        "X = np.vstack((X,x))\n",
        "\n",
        "Y = neut_label[0,0,0,:]\n",
        "y = neut_label[0,1,0,:]\n",
        "Y = np.hstack((Y,y))\n",
        "total_sub = 339\n",
        "for subject in range(1,total_sub):\n",
        "  x = neut_data[subject,0,:,:]\n",
        "  x = x.T\n",
        "  X = np.vstack((X,x))\n",
        "  x = neut_data[subject,1,:,:]\n",
        "  x = x.T\n",
        "  X = np.vstack((X,x))\n",
        "\n",
        "  y = neut_label[subject,0,0,:]\n",
        "  Y = np.hstack((Y,y))\n",
        "  y = neut_label[subject,1,0,:]\n",
        "  Y = np.hstack((Y,y))\n",
        "\n",
        "print(np.shape(X))\n",
        "print(np.shape(Y)) "
      ],
      "execution_count": null,
      "outputs": [
        {
          "output_type": "stream",
          "text": [
            "(85428, 360)\n",
            "(85428,)\n"
          ],
          "name": "stdout"
        }
      ]
    },
    {
      "cell_type": "markdown",
      "metadata": {
        "id": "kZ2vOTl4X5_J"
      },
      "source": [
        "Data pre-processing:"
      ]
    },
    {
      "cell_type": "code",
      "metadata": {
        "id": "26yYVKKaHk4_",
        "outputId": "99cda567-29cd-4ddb-d1e8-9700bffc9bcc",
        "colab": {
          "base_uri": "https://localhost:8080/",
          "height": 255
        }
      },
      "source": [
        "#x_train x_test\n",
        "X_train, X_test, Y_train, Y_test = train_test_split(X, Y, test_size=0.2, random_state=42)\n",
        "new_X_train, new_X_test, new_Y_train, new_Y_test = train_test_split(X_test, Y_test, test_size=0.2, random_state=42)\n",
        "print(new_X_train)\n",
        "print(new_Y_train)\n"
      ],
      "execution_count": null,
      "outputs": [
        {
          "output_type": "stream",
          "text": [
            "[[ 102.46875      20.50409091   35.75965909 ...  -58.10568182\n",
            "   133.14261364  -11.15625   ]\n",
            " [   0.            0.            0.         ...    0.\n",
            "     0.            0.        ]\n",
            " [   0.            0.            0.         ...    0.\n",
            "     0.            0.        ]\n",
            " ...\n",
            " [ -23.10340909  -12.05         25.18465909 ... -254.53806818\n",
            "     0.38068182 -135.61704545]\n",
            " [ -51.85397727  -22.58323864  -66.87102273 ...   -2.28181818\n",
            "     5.86193182   74.05340909]\n",
            " [   1.33636364   27.8625      -20.83806818 ...  100.33636364\n",
            "   -20.46818182  -70.38068182]]\n",
            "[0. 0. 0. ... 0. 1. 1.]\n"
          ],
          "name": "stdout"
        }
      ]
    },
    {
      "cell_type": "markdown",
      "metadata": {
        "id": "c_7kpZsaDIq_"
      },
      "source": [
        "# Multi-Voxel Pattern Analysis\n"
      ]
    },
    {
      "cell_type": "markdown",
      "source": [
        "## ANOVA Feature selection and SVM binary classification\n"
      ],
      "metadata": {
        "id": "AEsl6_KuUo3P"
      }
    },
    {
      "cell_type": "code",
      "metadata": {
        "id": "1B_yTUiXEmNP"
      },
      "source": [
        "# from joblib import parallel_backend\n",
        "\n",
        "# with parallel_backend('threading', n_jobs=-1):\n",
        "feature_selection = SelectPercentile(f_classif, percentile=5)\n",
        "anova_svc = Pipeline([('scale', StandardScaler()), ('anova', feature_selection), ('svc', SVC(kernel='linear', C=1.0, probability=False, degree=3, coef0=0.0, tol=0.001,\n",
        "cache_size=200, shrinking=True, gamma='auto'))])\n",
        "anova_svc.fit(new_X_train, new_Y_train)\n",
        "y_pred_feature = anova_svc.predict(new_X_test)\n",
        "  "
      ],
      "execution_count": null,
      "outputs": []
    },
    {
      "cell_type": "code",
      "metadata": {
        "id": "T2Fqev3NjGzF",
        "outputId": "093247a1-a426-490b-9a0f-c83b5b98fc4f",
        "colab": {
          "base_uri": "https://localhost:8080/",
          "height": 34
        }
      },
      "source": [
        "accuracy = (new_Y_test == y_pred_feature).mean()\n",
        "print(accuracy)"
      ],
      "execution_count": null,
      "outputs": [
        {
          "output_type": "stream",
          "text": [
            "0.8112931538911644\n"
          ],
          "name": "stdout"
        }
      ]
    },
    {
      "cell_type": "code",
      "metadata": {
        "id": "qbQZ4DlsuMYt",
        "outputId": "2664ad9c-788c-49aa-c6fc-5e07c8b60e68",
        "colab": {
          "base_uri": "https://localhost:8080/",
          "height": 945
        }
      },
      "source": [
        "from sklearn.metrics import plot_confusion_matrix\n",
        "class_names = ['shapes', 'blank']\n",
        "titles_options = [(\"Confusion matrix without normalisation\", None),\n",
        "                  (\"Normalized confusion matrix\", 'true')]\n",
        "for title, normalize in titles_options:\n",
        "    disp = plot_confusion_matrix(anova_svc, new_X_test, new_Y_test,\n",
        "                                 display_labels=class_names,\n",
        "                                 cmap=plt.cm.Blues,\n",
        "                                 normalize=normalize)\n",
        "    disp.ax_.set_title(title)\n",
        "\n",
        "    print(title)\n",
        "    print(disp.confusion_matrix)\n",
        "\n",
        "plt.show()"
      ],
      "execution_count": null,
      "outputs": [
        {
          "output_type": "stream",
          "text": [
            "Confusion matrix without normalisation\n",
            "[[2195  177]\n",
            " [ 468  578]]\n",
            "Normalized confusion matrix\n",
            "[[0.92537943 0.07462057]\n",
            " [0.44741874 0.55258126]]\n"
          ],
          "name": "stdout"
        },
        {
          "output_type": "display_data",
          "data": {
            "image/png": "[encoded data removed]",
            "text/plain": [
              "<Figure size 576x432 with 2 Axes>"
            ]
          },
          "metadata": {
            "tags": [],
            "image/png": {
              "width": 509,
              "height": 413
            },
            "needs_background": "light"
          }
        },
        {
          "output_type": "display_data",
          "data": {
            "image/png": "[encoded data removed]",
            "text/plain": [
              "<Figure size 576x432 with 2 Axes>"
            ]
          },
          "metadata": {
            "tags": [],
            "image/png": {
              "width": 497,
              "height": 413
            },
            "needs_background": "light"
          }
        }
      ]
    },
    {
      "cell_type": "code",
      "metadata": {
        "id": "6-0GCd0FECds",
        "outputId": "8483a229-6b25-4666-af87-06c40e287ae6",
        "colab": {
          "base_uri": "https://localhost:8080/",
          "height": 51
        }
      },
      "source": [
        "coef = anova_svc.named_steps['svc'].coef_\n",
        "print(np.shape(coef))\n",
        "\n",
        "# reverse feature selection\n",
        "coef_1 = feature_selection.inverse_transform(coef)\n",
        "print(np.shape(coef_1))\n"
      ],
      "execution_count": null,
      "outputs": [
        {
          "output_type": "stream",
          "text": [
            "(1, 18)\n",
            "(1, 360)\n"
          ],
          "name": "stdout"
        }
      ]
    },
    {
      "cell_type": "code",
      "metadata": {
        "id": "kSpo5dQSjFP8",
        "outputId": "75b75b99-6b44-4017-ac69-116d1f34514a",
        "colab": {
          "base_uri": "https://localhost:8080/",
          "height": 34
        }
      },
      "source": [
        "print(np.shape(coef))\n"
      ],
      "execution_count": null,
      "outputs": [
        {
          "output_type": "stream",
          "text": [
            "(1, 18)\n"
          ],
          "name": "stdout"
        }
      ]
    },
    {
      "cell_type": "code",
      "metadata": {
        "id": "RWPEMLsMcgZ1",
        "outputId": "2e62583c-d58f-4b7d-de53-374079a61bd2",
        "colab": {
          "base_uri": "https://localhost:8080/",
          "height": 34
        }
      },
      "source": [
        "x = np.argsort(coef)\n",
        "print(x)"
      ],
      "execution_count": null,
      "outputs": [
        {
          "output_type": "stream",
          "text": [
            "[[ 1 10  2  4 11  5 12  6 15 14 13  0  9  3 17 16  8  7]]\n"
          ],
          "name": "stdout"
        }
      ]
    },
    {
      "cell_type": "code",
      "metadata": {
        "id": "sMi_pLXscn9W",
        "outputId": "be554a61-4c49-4de6-d521-d19b1baf0e78",
        "colab": {
          "base_uri": "https://localhost:8080/",
          "height": 323
        }
      },
      "source": [
        "for p in [1, 10, 2, 4, 11, 5, 12, 6, 15, 14, 13, 0, 9, 3, 17, 16, 8, 7]:\n",
        "  print(region_info['name'][p])"
      ],
      "execution_count": null,
      "outputs": [
        {
          "output_type": "stream",
          "text": [
            "R_MST\n",
            "R_PEF\n",
            "R_V6\n",
            "R_V3\n",
            "R_55b\n",
            "R_V4\n",
            "R_V3A\n",
            "R_V8\n",
            "R_V7\n",
            "R_POS2\n",
            "R_RSC\n",
            "R_V1\n",
            "R_FEF\n",
            "R_V2\n",
            "R_FFC\n",
            "R_IPS1\n",
            "R_3b\n",
            "R_4\n"
          ],
          "name": "stdout"
        }
      ]
    },
    {
      "cell_type": "code",
      "metadata": {
        "id": "dGYU3_U0Ey5g"
      },
      "source": [
        "filename = 'feature_svc_model.sav'\n",
        "pickle.dump(anova_svc, open(filename, 'wb'))"
      ],
      "execution_count": null,
      "outputs": []
    },
    {
      "cell_type": "code",
      "metadata": {
        "id": "IFqlig5iLnPU",
        "outputId": "89da2dd3-abea-48b1-ea63-24133846f3f9",
        "colab": {
          "base_uri": "https://localhost:8080/",
          "height": 34
        }
      },
      "source": [
        "from sklearn.datasets import make_classification\n",
        "X, y = make_classification(n_samples=10, random_state=0)\n",
        "X_train , X_test , y_train, y_test = train_test_split(X, y, random_state=0)\n",
        "clf = svm.SVC(kernel='linear')\n",
        "# linear kernel computation\n",
        "gram_train = np.dot(X_train, X_train.T)\n",
        "clf.fit(gram_train, y_train)\n",
        "\n",
        "# predict on training examples\n",
        "gram_test = np.dot(X_test, X_train.T)\n",
        "clf.predict(gram_test)\n"
      ],
      "execution_count": null,
      "outputs": [
        {
          "output_type": "execute_result",
          "data": {
            "text/plain": [
              "array([0, 0, 0])"
            ]
          },
          "metadata": {
            "tags": []
          },
          "execution_count": 32
        }
      ]
    },
    {
      "cell_type": "code",
      "metadata": {
        "id": "8oGBsWctLzgo",
        "outputId": "a7a2df47-c350-43a7-f215-83a01d8ed2fb",
        "colab": {
          "base_uri": "https://localhost:8080/",
          "height": 34
        }
      },
      "source": [
        "coef = clf.coef_\n",
        "print(np.shape(coef))"
      ],
      "execution_count": null,
      "outputs": [
        {
          "output_type": "stream",
          "text": [
            "(1, 7)\n"
          ],
          "name": "stdout"
        }
      ]
    },
    {
      "cell_type": "code",
      "metadata": {
        "id": "CiR60OZZMApd"
      },
      "source": [],
      "execution_count": null,
      "outputs": []
    }
  ]
}